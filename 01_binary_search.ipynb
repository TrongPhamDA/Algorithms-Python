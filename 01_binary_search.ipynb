{
 "cells": [
  {
   "cell_type": "code",
   "execution_count": 22,
   "source": [
    "def binary_search(list, item):\r\n",
    "    low  = 0\r\n",
    "    high = len(list) - 1\r\n",
    "    while low <= high:\r\n",
    "        mid   = (low + high) // 2\r\n",
    "        guess = list[mid]\r\n",
    "        if guess == item: return mid\r\n",
    "        if guess >  item:  high = mid - 1\r\n",
    "        if guess <  item:  low  = mid + 1\r\n",
    "    return None\r\n"
   ],
   "outputs": [],
   "metadata": {}
  },
  {
   "cell_type": "code",
   "execution_count": 23,
   "source": [
    "my_list = [1,3,5,7,9]\r\n",
    "my_list"
   ],
   "outputs": [
    {
     "output_type": "execute_result",
     "data": {
      "text/plain": [
       "[1, 3, 5, 7, 9]"
      ]
     },
     "metadata": {},
     "execution_count": 23
    }
   ],
   "metadata": {}
  },
  {
   "cell_type": "code",
   "execution_count": 24,
   "source": [
    "print(binary_search(my_list, 3))\r\n",
    "print(binary_search(my_list, -1))"
   ],
   "outputs": [
    {
     "output_type": "stream",
     "name": "stdout",
     "text": [
      "1\n",
      "None\n"
     ]
    }
   ],
   "metadata": {}
  },
  {
   "cell_type": "markdown",
   "source": [
    "## Excercises"
   ],
   "metadata": {}
  },
  {
   "cell_type": "code",
   "execution_count": 33,
   "source": [
    "'''\r\n",
    "1.1 Suppose you have a sorted list of 128 names, and you’re searching\r\n",
    "through it using binary search. What’s the maximum number of\r\n",
    "steps it would take?\r\n",
    "'''\r\n",
    "list = 128\r\n",
    "print(math.log2(list))"
   ],
   "outputs": [
    {
     "output_type": "stream",
     "name": "stdout",
     "text": [
      "7.0\n"
     ]
    }
   ],
   "metadata": {}
  },
  {
   "cell_type": "code",
   "execution_count": 34,
   "source": [
    "'''\r\n",
    "1.2 Suppose you double the size of the list. What’s the maximum\r\n",
    "number of steps now?\r\n",
    "'''\r\n",
    "list = list * 2\r\n",
    "print(math.log2(list))"
   ],
   "outputs": [
    {
     "output_type": "stream",
     "name": "stdout",
     "text": [
      "8.0\n"
     ]
    }
   ],
   "metadata": {}
  }
 ],
 "metadata": {
  "orig_nbformat": 4,
  "language_info": {
   "name": "python",
   "version": "3.9.6",
   "mimetype": "text/x-python",
   "codemirror_mode": {
    "name": "ipython",
    "version": 3
   },
   "pygments_lexer": "ipython3",
   "nbconvert_exporter": "python",
   "file_extension": ".py"
  },
  "kernelspec": {
   "name": "python3",
   "display_name": "Python 3.9.6 64-bit"
  },
  "interpreter": {
   "hash": "bc7414e0192cd18d2925b097a86759818462b7db340c23bdb9f975b43440e95b"
  }
 },
 "nbformat": 4,
 "nbformat_minor": 2
}