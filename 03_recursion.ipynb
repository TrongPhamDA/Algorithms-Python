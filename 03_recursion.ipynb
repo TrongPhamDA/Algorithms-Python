{
 "cells": [
  {
   "cell_type": "markdown",
   "source": [
    "# Đệ Quy"
   ],
   "metadata": {}
  },
  {
   "cell_type": "code",
   "execution_count": 18,
   "source": [
    "def countdown(i):\r\n",
    "    import time\r\n",
    "    print(i)\r\n",
    "    time.sleep(0.5)\r\n",
    "    countdown(i-1)"
   ],
   "outputs": [],
   "metadata": {}
  },
  {
   "cell_type": "code",
   "execution_count": 19,
   "source": [
    "# countdown(3)"
   ],
   "outputs": [],
   "metadata": {}
  },
  {
   "cell_type": "code",
   "execution_count": 20,
   "source": [
    "def countdown_2(i):\r\n",
    "    import time\r\n",
    "    print(i)\r\n",
    "    if i <= 0: return\r\n",
    "    else: countdown_2(i-1)"
   ],
   "outputs": [],
   "metadata": {}
  },
  {
   "cell_type": "code",
   "execution_count": 21,
   "source": [
    "countdown_2(3)"
   ],
   "outputs": [
    {
     "output_type": "stream",
     "name": "stdout",
     "text": [
      "3\n",
      "2\n",
      "1\n",
      "0\n"
     ]
    }
   ],
   "metadata": {}
  }
 ],
 "metadata": {
  "orig_nbformat": 4,
  "language_info": {
   "name": "python",
   "version": "3.9.6",
   "mimetype": "text/x-python",
   "codemirror_mode": {
    "name": "ipython",
    "version": 3
   },
   "pygments_lexer": "ipython3",
   "nbconvert_exporter": "python",
   "file_extension": ".py"
  },
  "kernelspec": {
   "name": "python3",
   "display_name": "Python 3.9.6 64-bit"
  },
  "interpreter": {
   "hash": "bc7414e0192cd18d2925b097a86759818462b7db340c23bdb9f975b43440e95b"
  }
 },
 "nbformat": 4,
 "nbformat_minor": 2
}