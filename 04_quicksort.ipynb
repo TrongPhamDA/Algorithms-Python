{
 "cells": [
  {
   "cell_type": "code",
   "execution_count": 1,
   "source": [
    "arr = [2, 4, 6]"
   ],
   "outputs": [],
   "metadata": {}
  },
  {
   "cell_type": "markdown",
   "source": [
    "## You have to add up all the numbers and return the total. It’s pretty easy to do this with a loop:"
   ],
   "metadata": {}
  },
  {
   "cell_type": "code",
   "execution_count": 2,
   "source": [
    "def sum(arr):\r\n",
    "    total = 0\r\n",
    "    for x in arr: total += x\r\n",
    "    return total"
   ],
   "outputs": [],
   "metadata": {}
  },
  {
   "cell_type": "code",
   "execution_count": 3,
   "source": [
    "sum(arr)"
   ],
   "outputs": [
    {
     "output_type": "execute_result",
     "data": {
      "text/plain": [
       "12"
      ]
     },
     "metadata": {},
     "execution_count": 3
    }
   ],
   "metadata": {}
  },
  {
   "cell_type": "markdown",
   "source": [
    "## Exercise 4.1 Write out the code for the earlier sum function."
   ],
   "metadata": {}
  },
  {
   "cell_type": "code",
   "execution_count": 4,
   "source": [
    "def sum_recursive(arr):\r\n",
    "  if arr == []: return 0\r\n",
    "  return arr[0] + sum_recursive(arr[1:])"
   ],
   "outputs": [],
   "metadata": {}
  },
  {
   "cell_type": "code",
   "execution_count": 5,
   "source": [
    "sum_recursive(arr)"
   ],
   "outputs": [
    {
     "output_type": "execute_result",
     "data": {
      "text/plain": [
       "12"
      ]
     },
     "metadata": {},
     "execution_count": 5
    }
   ],
   "metadata": {}
  },
  {
   "cell_type": "markdown",
   "source": [
    "## Exercise 4.2 Write a recursive function to count the number of items in a list."
   ],
   "metadata": {}
  },
  {
   "cell_type": "code",
   "execution_count": 6,
   "source": [
    "def count_recursive(arr):\r\n",
    "    if arr == []: return 0\r\n",
    "    return 1 + count_recursive(arr[1:])"
   ],
   "outputs": [],
   "metadata": {}
  },
  {
   "cell_type": "code",
   "execution_count": 7,
   "source": [
    "count_recursive(arr)"
   ],
   "outputs": [
    {
     "output_type": "execute_result",
     "data": {
      "text/plain": [
       "3"
      ]
     },
     "metadata": {},
     "execution_count": 7
    }
   ],
   "metadata": {}
  },
  {
   "cell_type": "markdown",
   "source": [
    "## Exercise 4.3 Find the maximum number in a list."
   ],
   "metadata": {}
  },
  {
   "cell_type": "code",
   "execution_count": 8,
   "source": [
    "def max_recursive(arr):\r\n",
    "    if len(arr) == 0: return None\r\n",
    "    if len(arr) == 1: return arr[0]\r\n",
    "    else:\r\n",
    "        sub_max = max(arr[1:])\r\n",
    "        return arr[0] if arr[0] > sub_max else sub_max"
   ],
   "outputs": [],
   "metadata": {}
  },
  {
   "cell_type": "code",
   "execution_count": 9,
   "source": [
    "max_recursive(arr)"
   ],
   "outputs": [
    {
     "output_type": "execute_result",
     "data": {
      "text/plain": [
       "6"
      ]
     },
     "metadata": {},
     "execution_count": 9
    }
   ],
   "metadata": {}
  },
  {
   "cell_type": "markdown",
   "source": [
    "# Quick Sort"
   ],
   "metadata": {}
  },
  {
   "cell_type": "code",
   "execution_count": 11,
   "source": [
    "def quicksort(arr):\r\n",
    "    if len(arr) < 2: return arr\r\n",
    "    else:\r\n",
    "        pivot = arr[0]\r\n",
    "        less_arr    = [i for i in arr[1:] if i <= pivot]\r\n",
    "        greater_arr = [i for i in arr[1:] if i >  pivot]\r\n",
    "        return quicksort(less_arr) + [pivot] + quicksort(greater_arr)\r\n"
   ],
   "outputs": [],
   "metadata": {}
  },
  {
   "cell_type": "code",
   "execution_count": null,
   "source": [
    "arr = [10, 5, 2, 3]\r\n"
   ],
   "outputs": [],
   "metadata": {}
  }
 ],
 "metadata": {
  "orig_nbformat": 4,
  "language_info": {
   "name": "python",
   "version": "3.9.6",
   "mimetype": "text/x-python",
   "codemirror_mode": {
    "name": "ipython",
    "version": 3
   },
   "pygments_lexer": "ipython3",
   "nbconvert_exporter": "python",
   "file_extension": ".py"
  },
  "kernelspec": {
   "name": "python3",
   "display_name": "Python 3.9.6 64-bit"
  },
  "interpreter": {
   "hash": "bc7414e0192cd18d2925b097a86759818462b7db340c23bdb9f975b43440e95b"
  }
 },
 "nbformat": 4,
 "nbformat_minor": 2
}