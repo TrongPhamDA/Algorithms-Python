{
 "cells": [
  {
   "cell_type": "markdown",
   "source": [
    "# Tìm index của giá trị nhỏ nhất"
   ],
   "metadata": {}
  },
  {
   "cell_type": "code",
   "execution_count": 3,
   "source": [
    "def findSmallest(arr):\r\n",
    "    smallest       = arr[0]\r\n",
    "    smallest_index = 0\r\n",
    "    for i in range(1, len(arr)):\r\n",
    "        if arr[i] < smallest:\r\n",
    "            smallest       = arr[i]\r\n",
    "            smallest_index = i\r\n",
    "    return smallest_index"
   ],
   "outputs": [],
   "metadata": {}
  },
  {
   "cell_type": "markdown",
   "source": [
    "# Sắp xếp mảng theo thứ tự tăng dần"
   ],
   "metadata": {}
  },
  {
   "cell_type": "code",
   "execution_count": 4,
   "source": [
    "def selectionSort(arr):\r\n",
    "    newArr = []\r\n",
    "    for i in range(len(arr)):\r\n",
    "        smallest = findSmallest(arr)\r\n",
    "        newArr.append(arr.pop(smallest))\r\n",
    "    return newArr"
   ],
   "outputs": [],
   "metadata": {}
  },
  {
   "cell_type": "markdown",
   "source": [
    "# Ứng dụng sắp xếp"
   ],
   "metadata": {}
  },
  {
   "cell_type": "code",
   "execution_count": 5,
   "source": [
    "arr = [5, 3, 6, 2, 10]\r\n",
    "selectionSort(arr)"
   ],
   "outputs": [
    {
     "output_type": "execute_result",
     "data": {
      "text/plain": [
       "[2, 3, 5, 6, 10]"
      ]
     },
     "metadata": {},
     "execution_count": 5
    }
   ],
   "metadata": {}
  }
 ],
 "metadata": {
  "orig_nbformat": 4,
  "language_info": {
   "name": "python",
   "version": "3.9.6",
   "mimetype": "text/x-python",
   "codemirror_mode": {
    "name": "ipython",
    "version": 3
   },
   "pygments_lexer": "ipython3",
   "nbconvert_exporter": "python",
   "file_extension": ".py"
  },
  "kernelspec": {
   "name": "python3",
   "display_name": "Python 3.9.6 64-bit"
  },
  "interpreter": {
   "hash": "bc7414e0192cd18d2925b097a86759818462b7db340c23bdb9f975b43440e95b"
  }
 },
 "nbformat": 4,
 "nbformat_minor": 2
}