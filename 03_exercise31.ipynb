{
 "cells": [
  {
   "cell_type": "markdown",
   "source": [
    "# The call stack with recursion"
   ],
   "metadata": {}
  },
  {
   "cell_type": "markdown",
   "source": [
    "Recursive functions use the call stack too! Let’s look at this in action\r\n",
    "with the factorial function. factorial(5) is written as 5!, and it’s\r\n",
    "defined like this: 5! = 5 * 4 * 3 * 2 * 1."
   ],
   "metadata": {}
  },
  {
   "cell_type": "code",
   "execution_count": 2,
   "source": [
    "def fact(x):\r\n",
    "    if x == 1:\r\n",
    "        return 1\r\n",
    "    else:\r\n",
    "        return x * fact(x-1)"
   ],
   "outputs": [],
   "metadata": {}
  },
  {
   "cell_type": "markdown",
   "source": [
    "Similarly, factorial(3) is 3 * 2 * 1"
   ],
   "metadata": {}
  },
  {
   "cell_type": "code",
   "execution_count": 3,
   "source": [
    "fact(3)"
   ],
   "outputs": [
    {
     "output_type": "execute_result",
     "data": {
      "text/plain": [
       "6"
      ]
     },
     "metadata": {},
     "execution_count": 3
    }
   ],
   "metadata": {}
  }
 ],
 "metadata": {
  "orig_nbformat": 4,
  "language_info": {
   "name": "python",
   "version": "3.9.6",
   "mimetype": "text/x-python",
   "codemirror_mode": {
    "name": "ipython",
    "version": 3
   },
   "pygments_lexer": "ipython3",
   "nbconvert_exporter": "python",
   "file_extension": ".py"
  },
  "kernelspec": {
   "name": "python3",
   "display_name": "Python 3.9.6 64-bit"
  },
  "interpreter": {
   "hash": "bc7414e0192cd18d2925b097a86759818462b7db340c23bdb9f975b43440e95b"
  }
 },
 "nbformat": 4,
 "nbformat_minor": 2
}